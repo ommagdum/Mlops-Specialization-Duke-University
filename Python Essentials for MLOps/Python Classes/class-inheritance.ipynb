{
 "cells": [
  {
   "cell_type": "markdown",
   "source": [
    "## Class inheritance\n",
    "\n",
    "You might come across inheritance when working with Python. What it means is that a base (or parent) class can be a scaffold for a another (child) class. It helps when trying to have many methods and many basic behavior and avoid boilerplate code.\n",
    "\n",
    "It is useful when you need to create many classes that share the same behavior."
   ],
   "metadata": {}
  },
  {
   "cell_type": "code",
   "execution_count": 1,
   "source": [
    "# create a base class for house pets\n",
    "\n",
    "class Pet:\n",
    "\n",
    "    def eat(self):\n",
    "        self.food = self.food - self.appetite\n",
    "        print(f\"Ate {self.appetite} of food, have {self.food} left\")"
   ],
   "outputs": [],
   "metadata": {}
  },
  {
   "cell_type": "code",
   "execution_count": 2,
   "source": [
    "# create to child classes for other house pets like cat and dog and parakeet\n",
    "\n",
    "class Parakeet(Pet):\n",
    "\n",
    "    def __init__(self):\n",
    "        self.food = 100\n",
    "        self.appetite = 1\n",
    "\n",
    "class Dog(Pet):\n",
    "\n",
    "    def __init__(self):\n",
    "        self.food = 400\n",
    "        self.appetite = 7\n",
    "\n",
    "perry = Parakeet()\n",
    "rufus = Dog()\n"
   ],
   "outputs": [],
   "metadata": {}
  },
  {
   "cell_type": "code",
   "execution_count": 3,
   "source": [
    "perry.eat()\n",
    "rufus.eat()"
   ],
   "outputs": [
    {
     "output_type": "stream",
     "name": "stdout",
     "text": [
      "Ate 1 of food, have 99 left\n",
      "Ate 7 of food, have 393 left\n"
     ]
    }
   ],
   "metadata": {}
  },
  {
   "cell_type": "code",
   "execution_count": 4,
   "source": [
    "# demonstrate how other classes have methods that automatically appear\n",
    "for attribute in dir(rufus):\n",
    "    if attribute.startswith('_'):\n",
    "        continue\n",
    "    print(attribute)"
   ],
   "outputs": [
    {
     "output_type": "stream",
     "name": "stdout",
     "text": [
      "appetite\n",
      "eat\n",
      "food\n"
     ]
    }
   ],
   "metadata": {}
  },
  {
   "cell_type": "code",
   "execution_count": 5,
   "source": [
    "# use unittest.TestCase as a real world example\n",
    "import unittest\n",
    "\n",
    "class Testing(unittest.TestCase):\n",
    "    pass\n",
    "\n",
    "tests = Testing()"
   ],
   "outputs": [],
   "metadata": {}
  },
  {
   "cell_type": "code",
   "execution_count": 6,
   "source": [
    "for attribute in dir(tests):\n",
    "    if attribute.startswith('_'):\n",
    "        continue\n",
    "    print(attribute)"
   ],
   "outputs": [
    {
     "output_type": "stream",
     "name": "stdout",
     "text": [
      "addClassCleanup\n",
      "addCleanup\n",
      "addTypeEqualityFunc\n",
      "assertAlmostEqual\n",
      "assertAlmostEquals\n",
      "assertCountEqual\n",
      "assertDictContainsSubset\n",
      "assertDictEqual\n",
      "assertEqual\n",
      "assertEquals\n",
      "assertFalse\n",
      "assertGreater\n",
      "assertGreaterEqual\n",
      "assertIn\n",
      "assertIs\n",
      "assertIsInstance\n",
      "assertIsNone\n",
      "assertIsNot\n",
      "assertIsNotNone\n",
      "assertLess\n",
      "assertLessEqual\n",
      "assertListEqual\n",
      "assertLogs\n",
      "assertMultiLineEqual\n",
      "assertNotAlmostEqual\n",
      "assertNotAlmostEquals\n",
      "assertNotEqual\n",
      "assertNotEquals\n",
      "assertNotIn\n",
      "assertNotIsInstance\n",
      "assertNotRegex\n",
      "assertNotRegexpMatches\n",
      "assertRaises\n",
      "assertRaisesRegex\n",
      "assertRaisesRegexp\n",
      "assertRegex\n",
      "assertRegexpMatches\n",
      "assertSequenceEqual\n",
      "assertSetEqual\n",
      "assertTrue\n",
      "assertTupleEqual\n",
      "assertWarns\n",
      "assertWarnsRegex\n",
      "assert_\n",
      "countTestCases\n",
      "debug\n",
      "defaultTestResult\n",
      "doClassCleanups\n",
      "doCleanups\n",
      "fail\n",
      "failIf\n",
      "failIfAlmostEqual\n",
      "failIfEqual\n",
      "failUnless\n",
      "failUnlessAlmostEqual\n",
      "failUnlessEqual\n",
      "failUnlessRaises\n",
      "failureException\n",
      "id\n",
      "longMessage\n",
      "maxDiff\n",
      "run\n",
      "setUp\n",
      "setUpClass\n",
      "shortDescription\n",
      "skipTest\n",
      "subTest\n",
      "tearDown\n",
      "tearDownClass\n"
     ]
    }
   ],
   "metadata": {}
  },
  {
   "cell_type": "code",
   "execution_count": null,
   "source": [],
   "outputs": [],
   "metadata": {}
  }
 ],
 "metadata": {
  "kernelspec": {
   "name": "python3",
   "display_name": "Python 3.8.10 64-bit"
  },
  "language_info": {
   "codemirror_mode": {
    "name": "ipython",
    "version": 3
   },
   "file_extension": ".py",
   "mimetype": "text/x-python",
   "name": "python",
   "nbconvert_exporter": "python",
   "pygments_lexer": "ipython3",
   "version": "3.8.10"
  },
  "orig_nbformat": 4,
  "vscode": {
   "interpreter": {
    "hash": "31f2aee4e71d21fbe5cf8b01ff0e069b9275f58929596ceb00d14d90e3e16cd6"
   }
  },
  "interpreter": {
   "hash": "31f2aee4e71d21fbe5cf8b01ff0e069b9275f58929596ceb00d14d90e3e16cd6"
  }
 },
 "nbformat": 4,
 "nbformat_minor": 2
}