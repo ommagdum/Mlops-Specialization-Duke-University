{
 "cells": [
  {
   "cell_type": "markdown",
   "source": [
    "## Adding methods\n",
    "\n",
    "You've already seen methods. Some are special like `__init__` and some look like functions but always need `self` as the first argument. These notebook shows you other things you can do with methods."
   ],
   "metadata": {}
  },
  {
   "cell_type": "code",
   "execution_count": 1,
   "source": [
    "# class with two methods\n",
    "\n",
    "class Budget:\n",
    "\n",
    "    def __init__(self, budget):\n",
    "        self.budget = budget\n",
    "\n",
    "    def expense(self, amount):\n",
    "        self.budget = self.budget - amount\n",
    "        print(f\"Budget left: {self.budget}\")\n",
    "        \n",
    "budget = Budget(100)\n",
    "\n",
    "        "
   ],
   "outputs": [],
   "metadata": {}
  },
  {
   "cell_type": "code",
   "execution_count": 2,
   "source": [
    "# spend a few and get a report\n",
    "budget.expense(23)\n",
    "budget.expense(45)"
   ],
   "outputs": [
    {
     "output_type": "stream",
     "name": "stdout",
     "text": [
      "Budget left: 77\n",
      "Budget left: 32\n"
     ]
    }
   ],
   "metadata": {}
  },
  {
   "cell_type": "code",
   "execution_count": 3,
   "source": [
    "# a method can call another method. Let's add another method to do the reporting\n",
    "class Budget:\n",
    "\n",
    "    def __init__(self, budget):\n",
    "        self.budget = budget\n",
    "\n",
    "    def expense(self, amount):\n",
    "        self.budget = self.budget - amount\n",
    "        self.report()\n",
    "        \n",
    "    def report(self):\n",
    "        print(f\"Budget left: {self.budget}\")\n"
   ],
   "outputs": [],
   "metadata": {}
  },
  {
   "cell_type": "code",
   "execution_count": 4,
   "source": [
    "# code works just like before, but it is more organized!\n",
    "april_budget = Budget(400)\n",
    "april_budget.expense(34)"
   ],
   "outputs": [
    {
     "output_type": "stream",
     "name": "stdout",
     "text": [
      "Budget left: 366\n"
     ]
    }
   ],
   "metadata": {}
  },
  {
   "cell_type": "code",
   "execution_count": 5,
   "source": [
    "# methods can change the internal state of the instance\n",
    "print(\"Current budget variable:\", april_budget.budget)"
   ],
   "outputs": [
    {
     "output_type": "stream",
     "name": "stdout",
     "text": [
      "Current budget variable: 366\n"
     ]
    }
   ],
   "metadata": {}
  },
  {
   "cell_type": "code",
   "execution_count": 6,
   "source": [
    "# method can take arguments and keyword arguments as well\n",
    "# a method can call another method. Let's add another method to do the reporting\n",
    "class Budget:\n",
    "\n",
    "    def __init__(self, budget):\n",
    "        self.budget = budget\n",
    "\n",
    "    def expense(self, amount):\n",
    "        self.budget = self.budget - amount\n",
    "        self.report()\n",
    "        \n",
    "    def report(self, currency=\"$\"):\n",
    "        print(f\"Budget left: {currency}{self.budget}\")"
   ],
   "outputs": [],
   "metadata": {}
  },
  {
   "cell_type": "code",
   "execution_count": 7,
   "source": [
    "may_budget = Budget(23)\n",
    "may_budget.report()\n",
    "may_budget.report(\"PER $\")"
   ],
   "outputs": [
    {
     "output_type": "stream",
     "name": "stdout",
     "text": [
      "Budget left: $23\n",
      "Budget left: PER $23\n"
     ]
    }
   ],
   "metadata": {}
  },
  {
   "cell_type": "code",
   "execution_count": null,
   "source": [],
   "outputs": [],
   "metadata": {}
  }
 ],
 "metadata": {
  "kernelspec": {
   "name": "python3",
   "display_name": "Python 3.8.10 64-bit"
  },
  "language_info": {
   "codemirror_mode": {
    "name": "ipython",
    "version": 3
   },
   "file_extension": ".py",
   "mimetype": "text/x-python",
   "name": "python",
   "nbconvert_exporter": "python",
   "pygments_lexer": "ipython3",
   "version": "3.8.10"
  },
  "orig_nbformat": 4,
  "vscode": {
   "interpreter": {
    "hash": "31f2aee4e71d21fbe5cf8b01ff0e069b9275f58929596ceb00d14d90e3e16cd6"
   }
  },
  "interpreter": {
   "hash": "31f2aee4e71d21fbe5cf8b01ff0e069b9275f58929596ceb00d14d90e3e16cd6"
  }
 },
 "nbformat": 4,
 "nbformat_minor": 2
}