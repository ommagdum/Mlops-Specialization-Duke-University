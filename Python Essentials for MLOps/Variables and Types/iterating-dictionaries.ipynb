{
 "cells": [
  {
   "cell_type": "markdown",
   "source": [
    "## Learn how to create dictionaries\n",
    "\n",
    "Seasoned software engineers don't think much about creating dictionaries: they might need some existing data, empty dictionaries, or generate a dictionary from a list. Knowing how to create each variation will make you a more effective engineer!\n"
   ],
   "metadata": {}
  },
  {
   "cell_type": "code",
   "execution_count": 1,
   "source": [
    "# with curly brackets\n",
    "contact_information = {}\n",
    "contact_information"
   ],
   "outputs": [
    {
     "output_type": "execute_result",
     "data": {
      "text/plain": [
       "{}"
      ]
     },
     "metadata": {},
     "execution_count": 1
    }
   ],
   "metadata": {}
  },
  {
   "cell_type": "code",
   "execution_count": 2,
   "source": [
    "# with curly brackets and pre-seeded data\n",
    "contact_information = {\"name\": \"Alfredo\", \"lastname\": \"Deza\"}\n",
    "contact_information"
   ],
   "outputs": [
    {
     "output_type": "execute_result",
     "data": {
      "text/plain": [
       "{'name': 'Alfredo', 'lastname': 'Deza'}"
      ]
     },
     "metadata": {},
     "execution_count": 2
    }
   ],
   "metadata": {}
  },
  {
   "cell_type": "code",
   "execution_count": 3,
   "source": [
    "# with the dict() built-in\n",
    "contact_information = dict()\n",
    "contact_information"
   ],
   "outputs": [
    {
     "output_type": "execute_result",
     "data": {
      "text/plain": [
       "{}"
      ]
     },
     "metadata": {},
     "execution_count": 3
    }
   ],
   "metadata": {}
  },
  {
   "cell_type": "code",
   "execution_count": 4,
   "source": [
    "# with dict() and a list of tuple pairs\n",
    "data = [(\"name\", \"alfredo\"), (\"lastname\", \"deza\")]\n",
    "dict(data)"
   ],
   "outputs": [
    {
     "output_type": "execute_result",
     "data": {
      "text/plain": [
       "{'name': 'alfredo', 'lastname': 'deza'}"
      ]
     },
     "metadata": {},
     "execution_count": 4
    }
   ],
   "metadata": {}
  },
  {
   "cell_type": "code",
   "execution_count": 5,
   "source": [
    "# with dict() and keyword arguments\n",
    "dict(first=\"alfredo\", lastname=\"deza\")"
   ],
   "outputs": [
    {
     "output_type": "execute_result",
     "data": {
      "text/plain": [
       "{'first': 'alfredo', 'lastname': 'deza'}"
      ]
     },
     "metadata": {},
     "execution_count": 5
    }
   ],
   "metadata": {}
  },
  {
   "cell_type": "markdown",
   "source": [
    "## Looping over dictionaries\n",
    "\n",
    "Depending on what data you need from a dictionary, looping can be done in several different ways to extract data. You may want to:\n",
    "\n",
    "1. Retrieve only keys\n",
    "1. Retrieve only values\n",
    "1. Retrieve both keys and values\n",
    "\n",
    "This section covers the three different ways to extract data which you can pair with other data retrieval techniques in the previous lesson"
   ],
   "metadata": {}
  },
  {
   "cell_type": "code",
   "execution_count": 6,
   "source": [
    "contact_information = {\n",
    "    \"name\": \"Alfredo\", \n",
    "    \"lastname\": \"Deza\", \n",
    "    \"age\": 49,\n",
    "    \"height\": 1.90,\n",
    "}"
   ],
   "outputs": [],
   "metadata": {}
  },
  {
   "cell_type": "code",
   "execution_count": 7,
   "source": [
    "# Retrieve only keys by default or explicitly\n",
    "#for key in contact_information:\n",
    "#    print(key)\n",
    "\n",
    "# explicit\n",
    "for key in contact_information.keys():\n",
    "    print(key)"
   ],
   "outputs": [
    {
     "output_type": "stream",
     "name": "stdout",
     "text": [
      "name\n",
      "lastname\n",
      "age\n",
      "height\n"
     ]
    }
   ],
   "metadata": {}
  },
  {
   "cell_type": "code",
   "execution_count": 8,
   "source": [
    "# Retrieve only values\n",
    "\n",
    "for value in contact_information.values():\n",
    "    print(value)"
   ],
   "outputs": [
    {
     "output_type": "stream",
     "name": "stdout",
     "text": [
      "Alfredo\n",
      "Deza\n",
      "49\n",
      "1.9\n"
     ]
    }
   ],
   "metadata": {}
  },
  {
   "cell_type": "code",
   "execution_count": 9,
   "source": [
    "# Retrieve both keys and values\n",
    "\n",
    "for key, value in contact_information.items():\n",
    "    print(f\"{key} --> {value}\")\n",
    "\n",
    "contact_information.items()"
   ],
   "outputs": [
    {
     "output_type": "stream",
     "name": "stdout",
     "text": [
      "name --> Alfredo\n",
      "lastname --> Deza\n",
      "age --> 49\n",
      "height --> 1.9\n"
     ]
    },
    {
     "output_type": "execute_result",
     "data": {
      "text/plain": [
       "dict_items([('name', 'Alfredo'), ('lastname', 'Deza'), ('age', 49), ('height', 1.9)])"
      ]
     },
     "metadata": {},
     "execution_count": 9
    }
   ],
   "metadata": {}
  },
  {
   "cell_type": "code",
   "execution_count": null,
   "source": [
    "\n"
   ],
   "outputs": [],
   "metadata": {}
  }
 ],
 "metadata": {
  "interpreter": {
   "hash": "31f2aee4e71d21fbe5cf8b01ff0e069b9275f58929596ceb00d14d90e3e16cd6"
  },
  "kernelspec": {
   "name": "python3",
   "display_name": "Python 3.8.10 64-bit"
  },
  "language_info": {
   "codemirror_mode": {
    "name": "ipython",
    "version": 3
   },
   "file_extension": ".py",
   "mimetype": "text/x-python",
   "name": "python",
   "nbconvert_exporter": "python",
   "pygments_lexer": "ipython3",
   "version": "3.8.10"
  },
  "orig_nbformat": 4
 },
 "nbformat": 4,
 "nbformat_minor": 2
}